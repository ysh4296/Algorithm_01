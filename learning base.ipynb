{
 "cells": [
  {
   "cell_type": "code",
   "execution_count": 1,
   "id": "99972ced",
   "metadata": {},
   "outputs": [],
   "source": [
    "import tensorflow as tf"
   ]
  },
  {
   "cell_type": "markdown",
   "id": "09c0a88e",
   "metadata": {},
   "source": [
    "run tensorflow"
   ]
  },
  {
   "cell_type": "code",
   "execution_count": 2,
   "id": "f59751fe",
   "metadata": {},
   "outputs": [],
   "source": [
    "from tensorflow import keras\n",
    "from tensorflow.keras import layers, models\n",
    "import numpy as np\n",
    "import matplotlib.pyplot as plt\n"
   ]
  },
  {
   "cell_type": "markdown",
   "id": "2d4901a0",
   "metadata": {},
   "source": [
    "텐서플로우 속에있는 머신러닝 필수요소 , layers와 model을 불러오고 "
   ]
  },
  {
   "cell_type": "code",
   "execution_count": 3,
   "id": "03337cae",
   "metadata": {},
   "outputs": [],
   "source": [
    "mnist = keras.datasets.mnist\n",
    "(train_images, train_labels),(test_images, test_labels) = mnist.load_data()\n"
   ]
  },
  {
   "cell_type": "markdown",
   "id": "28e117a9",
   "metadata": {},
   "source": [
    "mnist에 있는 데이터를 불러와 기계학습용 train_image와 테스트용 test_image로 가져옴"
   ]
  },
  {
   "cell_type": "code",
   "execution_count": 4,
   "id": "5410a586",
   "metadata": {},
   "outputs": [],
   "source": [
    "train_images = tf.reshape(train_images,[-1,28,28,1])\n",
    "test_images = tf.reshape(test_images,[-1,28,28,1])"
   ]
  },
  {
   "cell_type": "markdown",
   "id": "d10b522b",
   "metadata": {},
   "source": [
    "배열곱셈을 위한 기계학습을 위해 사진의 크기를 조절"
   ]
  },
  {
   "cell_type": "code",
   "execution_count": null,
   "id": "1ded9f75",
   "metadata": {},
   "outputs": [],
   "source": []
  }
 ],
 "metadata": {
  "kernelspec": {
   "display_name": "Python 3",
   "language": "python",
   "name": "python3"
  },
  "language_info": {
   "codemirror_mode": {
    "name": "ipython",
    "version": 3
   },
   "file_extension": ".py",
   "mimetype": "text/x-python",
   "name": "python",
   "nbconvert_exporter": "python",
   "pygments_lexer": "ipython3",
   "version": "3.7.10"
  }
 },
 "nbformat": 4,
 "nbformat_minor": 5
}
