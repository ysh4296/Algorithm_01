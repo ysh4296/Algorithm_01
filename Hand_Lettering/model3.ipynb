{
 "cells": [
  {
   "cell_type": "code",
   "execution_count": 5,
   "id": "d33fff6d",
   "metadata": {},
   "outputs": [],
   "source": [
    "import tensorflow as tf\n",
    "\n",
    "from tensorflow import keras\n",
    "from tensorflow.keras import layers, models\n",
    "import numpy as np\n",
    "import matplotlib.pyplot as plt\n",
    "\n",
    "mnist = keras.datasets.mnist\n",
    "(train_images, train_labels),(test_images, test_labels) = mnist.load_data()\n",
    "\n",
    "train_images = tf.reshape(train_images,[-1,28,28,1])\n",
    "test_images = tf.reshape(test_images,[-1,28,28,1])\n"
   ]
  },
  {
   "cell_type": "markdown",
   "id": "eb9597e1",
   "metadata": {},
   "source": [
    "- base code"
   ]
  },
  {
   "cell_type": "code",
   "execution_count": 32,
   "id": "8b4d8501",
   "metadata": {},
   "outputs": [],
   "source": [
    "model = keras.models.Sequential([\n",
    "        keras.layers.Conv2D(32,(3,3), activation = 'relu',input_shape = (28,28,1)),\n",
    "        keras.layers.MaxPool2D((2,2)),\n",
    "        keras.layers.Conv2D(64,(3,3), activation = 'relu'),\n",
    "        keras.layers.Conv2D(64,(3,3), activation = 'relu'),\n",
    "        keras.layers.MaxPool2D((2,2)),\n",
    "        keras.layers.Conv2D(128,(3,3), activation = 'relu'),\n",
    "        keras.layers.Flatten(),\n",
    "        keras.layers.Dense(10,activation = 'softmax')])"
   ]
  },
  {
   "cell_type": "markdown",
   "id": "df84dedc",
   "metadata": {},
   "source": [
    "- 7개의 층을가진 레이어를 통한 모델의 정의"
   ]
  },
  {
   "cell_type": "code",
   "execution_count": 33,
   "id": "311b314c",
   "metadata": {},
   "outputs": [],
   "source": [
    "model.compile(\n",
    "    optimizer = 'adam',\n",
    "    loss = 'sparse_categorical_crossentropy',\n",
    "    metrics = ['accuracy']\n",
    ")"
   ]
  },
  {
   "cell_type": "markdown",
   "id": "5f591627",
   "metadata": {},
   "source": [
    "metrics의 최적화\n",
    "손실함수의 설정"
   ]
  },
  {
   "cell_type": "code",
   "execution_count": 34,
   "id": "e6f53f1e",
   "metadata": {},
   "outputs": [
    {
     "name": "stdout",
     "output_type": "stream",
     "text": [
      "Train on 60000 samples\n",
      "Epoch 1/5\n",
      "60000/60000 [==============================] - 45s 748us/sample - loss: 0.1773 - accuracy: 0.9560\n",
      "Epoch 2/5\n",
      "60000/60000 [==============================] - 45s 754us/sample - loss: 0.0556 - accuracy: 0.9831\n",
      "Epoch 3/5\n",
      "60000/60000 [==============================] - 44s 726us/sample - loss: 0.0429 - accuracy: 0.9867\n",
      "Epoch 4/5\n",
      "60000/60000 [==============================] - 43s 712us/sample - loss: 0.0378 - accuracy: 0.9887\n",
      "Epoch 5/5\n",
      "60000/60000 [==============================] - 43s 718us/sample - loss: 0.0317 - accuracy: 0.9902\n"
     ]
    },
    {
     "data": {
      "text/plain": [
       "<tensorflow.python.keras.callbacks.History at 0x204b5b359c8>"
      ]
     },
     "execution_count": 34,
     "metadata": {},
     "output_type": "execute_result"
    }
   ],
   "source": [
    "model.fit(train_images,train_labels, epochs = 5)"
   ]
  },
  {
   "cell_type": "markdown",
   "id": "8d9bfc70",
   "metadata": {},
   "source": [
    "- 5번 반복하여 모델을 학습시킴"
   ]
  },
  {
   "cell_type": "code",
   "execution_count": 41,
   "id": "579e1d3d",
   "metadata": {},
   "outputs": [
    {
     "name": "stdout",
     "output_type": "stream",
     "text": [
      "10000/1 - 2s - loss: 0.0511 - accuracy: 0.9868\n",
      "정답률 :  0.9868 loss :  0.043897583253833\n"
     ]
    }
   ],
   "source": [
    "score = model.evaluate(test_images, test_labels, verbose = 2)\n",
    "print('정답률 : ', score[1], 'loss : ',score[0])"
   ]
  },
  {
   "cell_type": "code",
   "execution_count": 40,
   "id": "b5896edf",
   "metadata": {},
   "outputs": [],
   "source": [
    "test_images = tf.cast(test_images, tf.float32)\n",
    "pred = model.predict(test_images)\n",
    "Number = [0,1,2,3,4,5,6,7,8,9]"
   ]
  },
  {
   "cell_type": "markdown",
   "id": "5b827493",
   "metadata": {},
   "source": [
    "prediction을 위한 사전처리"
   ]
  },
  {
   "cell_type": "code",
   "execution_count": 35,
   "id": "1fa10f73",
   "metadata": {},
   "outputs": [],
   "source": [
    "def correct_mnist(prediction_array, true_label):\n",
    "    correct_index = []\n",
    "    for i in range(true_label.shape[0]):\n",
    "        if np.argmax(prediction_array[i]) == true_label[i]:\n",
    "            correct_index.append(i)\n",
    "    return correct_index\n",
    "\n",
    "def error_mnist(prediction_array, true_label):\n",
    "    error_index = []\n",
    "    for i in range(true_label.shape[0]):\n",
    "        if np.argmax(prediction_array[i]) != true_label[i]:\n",
    "            error_index.append(i)\n",
    "    return error_index\n",
    "\n",
    "def plot_print(index, prediction_array, true_label):\n",
    "    num_cols = 5\n",
    "    num_rows = 5\n",
    "    plt.figure(figsize=(2*2*num_cols, 2*num_rows))\n",
    "    assert len(index) < num_cols * num_rows\n",
    "    for i in range(len(index)):\n",
    "        plt.subplot(num_rows, 2*num_cols, 2*i+1)\n",
    "        idx = index[i]\n",
    "        plt.imshow(test_images[idx])\n",
    "        plt.subplot(num_rows, 2*num_cols, 2*i+2)\n",
    "        plt.bar(range(10), prediction_array[idx])\n",
    "        plt.xticks(Number)"
   ]
  },
  {
   "cell_type": "code",
   "execution_count": 36,
   "id": "c7c30d60",
   "metadata": {
    "scrolled": false
   },
   "outputs": [
    {
     "data": {
      "image/png": "[encoded data removed]",
      "text/plain": [
       "<Figure size 1440x720 with 20 Axes>"
      ]
     },
     "metadata": {
      "needs_background": "light"
     },
     "output_type": "display_data"
    }
   ],
   "source": [
    "index = correct_mnist(pred, test_labels)\n",
    "index_slice = index[:10]\n",
    "plot_print(index_slice, pred, test_labels)"
   ]
  },
  {
   "cell_type": "markdown",
   "id": "f93210cb",
   "metadata": {},
   "source": [
    "- CNN을 통해 correct 하게 예측된 case들 중 index 넘버가 작은 10 개의 case를 출력"
   ]
  },
  {
   "cell_type": "code",
   "execution_count": 37,
   "id": "a5520fd2",
   "metadata": {},
   "outputs": [
    {
     "data": {
      "image/png": "[encoded data removed]",
      "text/plain": [
       "<Figure size 1440x720 with 20 Axes>"
      ]
     },
     "metadata": {
      "needs_background": "light"
     },
     "output_type": "display_data"
    }
   ],
   "source": [
    "index = error_mnist(pred, test_labels)\n",
    "index_slice = index[:10]\n",
    "plot_print(index_slice, pred, test_labels)"
   ]
  },
  {
   "cell_type": "markdown",
   "id": "517f62bd",
   "metadata": {},
   "source": [
    "- CNN을 통해 error가 발생한 case들 중 index 넘버가 작은 10 개의 case를 출력"
   ]
  }
 ],
 "metadata": {
  "kernelspec": {
   "display_name": "Python 3",
   "language": "python",
   "name": "python3"
  },
  "language_info": {
   "codemirror_mode": {
    "name": "ipython",
    "version": 3
   },
   "file_extension": ".py",
   "mimetype": "text/x-python",
   "name": "python",
   "nbconvert_exporter": "python",
   "pygments_lexer": "ipython3",
   "version": "3.7.10"
  }
 },
 "nbformat": 4,
 "nbformat_minor": 5
}
