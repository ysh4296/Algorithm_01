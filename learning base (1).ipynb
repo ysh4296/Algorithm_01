{
 "cells": [
  {
   "cell_type": "code",
   "execution_count": 1,
   "id": "99972ced",
   "metadata": {},
   "outputs": [],
   "source": [
    "import tensorflow as tf"
   ]
  },
  {
   "cell_type": "markdown",
   "id": "09c0a88e",
   "metadata": {},
   "source": [
    "run tensorflow"
   ]
  },
  {
   "cell_type": "code",
   "execution_count": 2,
   "id": "f59751fe",
   "metadata": {},
   "outputs": [],
   "source": [
    "from tensorflow import keras\n",
    "from tensorflow.keras import layers, models\n",
    "import numpy as np\n",
    "import matplotlib.pyplot as plt\n"
   ]
  },
  {
   "cell_type": "markdown",
   "id": "2d4901a0",
   "metadata": {},
   "source": [
    "텐서플로우 속에있는 머신러닝 필수요소 , layers와 model을 불러오고 "
   ]
  },
  {
   "cell_type": "code",
   "execution_count": 3,
   "id": "03337cae",
   "metadata": {},
   "outputs": [],
   "source": [
    "mnist = keras.datasets.mnist\n",
    "(train_images, train_labels),(test_images, test_labels) = mnist.load_data()\n"
   ]
  },
  {
   "cell_type": "markdown",
   "id": "28e117a9",
   "metadata": {},
   "source": [
    "mnist에 있는 데이터를 불러와 기계학습용 train_image와 테스트용 test_image로 가져옴"
   ]
  },
  {
   "cell_type": "code",
   "execution_count": 4,
   "id": "5410a586",
   "metadata": {},
   "outputs": [],
   "source": [
    "train_images = tf.reshape(train_images,[-1,28,28,1])\n",
    "test_images = tf.reshape(test_images,[-1,28,28,1])"
   ]
  },
  {
   "cell_type": "markdown",
   "id": "d10b522b",
   "metadata": {},
   "source": [
    "배열곱셈을 위한 기계학습을 위해 사진의 크기를 조절"
   ]
  },
  {
   "cell_type": "code",
   "execution_count": 9,
   "id": "eec6106e",
   "metadata": {},
   "outputs": [],
   "source": [
    "def correct_mnist(prediction_array, true_label):\n",
    "    correct_index = []\n",
    "    for i in range(true_label.shape[0]):\n",
    "        if np.argmax(prediction_array[i]) == true_label[i]:\n",
    "            correct.append(i)\n",
    "    return correct_index\n",
    "\n",
    "def error_mnist(prediction_array, true_label):\n",
    "    error_index = []\n",
    "    for i in range(true_label.shape[0]):\n",
    "        if np.argmax(prediction_array[i]) != true_label[i]:\n",
    "            error_index.append(i)\n",
    "    return error_index\n",
    "\n",
    "def plot_error(index, prediction_array, true_label):\n",
    "    num_cols = 5\n",
    "    num_rows = len(index)/num_cols\n",
    "    plt.figure(figsize=(2*2*num_cols, 2*num_rows))\n",
    "    assert len(index) < num_cols * num_rows\n",
    "    for i in range(len(index)):\n",
    "        plt.subplot(num_rows, 2*num_cols, 2*i+1)\n",
    "        idx = index[i]\n",
    "        plt.imshow(test_images[idx])\n",
    "        plt.subplot(num_rows, 2*num_cols, 2*i+2)\n",
    "        plt.bar(range(10), prediction_array[idx])\n",
    "        plt.xticks(Number)"
   ]
  },
  {
   "cell_type": "markdown",
   "id": "d893484f",
   "metadata": {},
   "source": [
    "-correct_mnist: 전체 테스트케이스 중 CNN이 정답을 찾은 index 만을 search 하여 반환하는 함수이다.\n",
    "\n",
    "-error_mnist: 전체 테스트케이스 중 error 가 발생한 index 만을 search 하여 반환하는 함수이다.\n",
    "\n",
    "-plot_error: index속에 있는 모든 case들을 한줄에 5개의 케이스식 출력하는 함수이다."
   ]
  }
 ],
 "metadata": {
  "kernelspec": {
   "display_name": "Python 3",
   "language": "python",
   "name": "python3"
  },
  "language_info": {
   "codemirror_mode": {
    "name": "ipython",
    "version": 3
   },
   "file_extension": ".py",
   "mimetype": "text/x-python",
   "name": "python",
   "nbconvert_exporter": "python",
   "pygments_lexer": "ipython3",
   "version": "3.7.10"
  }
 },
 "nbformat": 4,
 "nbformat_minor": 5
}
